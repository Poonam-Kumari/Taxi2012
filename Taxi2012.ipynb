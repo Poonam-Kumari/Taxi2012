{
 "cells": [
  {
   "cell_type": "code",
   "execution_count": 1,
   "metadata": {},
   "outputs": [],
   "source": [
    "import pandas as pd\n",
    "import seaborn as sns\n",
    "import matplotlib.pyplot as plt\n",
    "import numpy as np\n",
    "import datetime\n",
    "\n",
    "%matplotlib inline"
   ]
  },
  {
   "cell_type": "code",
   "execution_count": 2,
   "metadata": {},
   "outputs": [],
   "source": [
    "# Reading data from CSV file into a dataframe\n",
    "path = 'D:/HILDA_2020/yellow_tripdata_2012.csv/yellow_tripdata_2012.csv'\n",
    "df = pd.read_csv(path,nrows=100000)"
   ]
  },
  {
   "cell_type": "code",
   "execution_count": 3,
   "metadata": {},
   "outputs": [
    {
     "data": {
      "text/html": [
       "<div>\n",
       "<style scoped>\n",
       "    .dataframe tbody tr th:only-of-type {\n",
       "        vertical-align: middle;\n",
       "    }\n",
       "\n",
       "    .dataframe tbody tr th {\n",
       "        vertical-align: top;\n",
       "    }\n",
       "\n",
       "    .dataframe thead th {\n",
       "        text-align: right;\n",
       "    }\n",
       "</style>\n",
       "<table border=\"1\" class=\"dataframe\">\n",
       "  <thead>\n",
       "    <tr style=\"text-align: right;\">\n",
       "      <th></th>\n",
       "      <th>vendor_name</th>\n",
       "      <th>Trip_Pickup_DateTime</th>\n",
       "      <th>Trip_Dropoff_DateTime</th>\n",
       "      <th>Passenger_Count</th>\n",
       "      <th>Trip_Distance</th>\n",
       "      <th>Start_Lon</th>\n",
       "      <th>Start_Lat</th>\n",
       "      <th>Rate_Code</th>\n",
       "      <th>store_and_forward</th>\n",
       "      <th>End_Lon</th>\n",
       "      <th>End_Lat</th>\n",
       "      <th>Payment_Type</th>\n",
       "      <th>Fare_Amt</th>\n",
       "      <th>surcharge</th>\n",
       "      <th>mta_tax</th>\n",
       "      <th>Tip_Amt</th>\n",
       "      <th>Tolls_Amt</th>\n",
       "      <th>Total_Amt</th>\n",
       "    </tr>\n",
       "  </thead>\n",
       "  <tbody>\n",
       "    <tr>\n",
       "      <th>0</th>\n",
       "      <td>CMT</td>\n",
       "      <td>2012-01-10 23:55:50</td>\n",
       "      <td>2012-01-11 00:03:39</td>\n",
       "      <td>1</td>\n",
       "      <td>1.7</td>\n",
       "      <td>-73.994693</td>\n",
       "      <td>40.725031</td>\n",
       "      <td>1</td>\n",
       "      <td>N</td>\n",
       "      <td>-73.975951</td>\n",
       "      <td>40.730781</td>\n",
       "      <td>CRD</td>\n",
       "      <td>6.9</td>\n",
       "      <td>0.5</td>\n",
       "      <td>0.5</td>\n",
       "      <td>1.00</td>\n",
       "      <td>0.0</td>\n",
       "      <td>8.90</td>\n",
       "    </tr>\n",
       "    <tr>\n",
       "      <th>1</th>\n",
       "      <td>CMT</td>\n",
       "      <td>2012-01-11 19:18:25</td>\n",
       "      <td>2012-01-11 19:26:10</td>\n",
       "      <td>1</td>\n",
       "      <td>1.1</td>\n",
       "      <td>-73.987955</td>\n",
       "      <td>40.752947</td>\n",
       "      <td>1</td>\n",
       "      <td>N</td>\n",
       "      <td>-73.994532</td>\n",
       "      <td>40.761040</td>\n",
       "      <td>CSH</td>\n",
       "      <td>6.1</td>\n",
       "      <td>1.0</td>\n",
       "      <td>0.5</td>\n",
       "      <td>0.00</td>\n",
       "      <td>0.0</td>\n",
       "      <td>7.60</td>\n",
       "    </tr>\n",
       "    <tr>\n",
       "      <th>2</th>\n",
       "      <td>CMT</td>\n",
       "      <td>2012-01-11 19:19:19</td>\n",
       "      <td>2012-01-11 19:48:15</td>\n",
       "      <td>2</td>\n",
       "      <td>18.0</td>\n",
       "      <td>-73.783093</td>\n",
       "      <td>40.648550</td>\n",
       "      <td>2</td>\n",
       "      <td>N</td>\n",
       "      <td>-73.996134</td>\n",
       "      <td>40.747624</td>\n",
       "      <td>CRD</td>\n",
       "      <td>45.0</td>\n",
       "      <td>0.0</td>\n",
       "      <td>0.5</td>\n",
       "      <td>10.06</td>\n",
       "      <td>4.8</td>\n",
       "      <td>60.36</td>\n",
       "    </tr>\n",
       "    <tr>\n",
       "      <th>3</th>\n",
       "      <td>CMT</td>\n",
       "      <td>2012-01-11 19:19:21</td>\n",
       "      <td>2012-01-11 19:27:00</td>\n",
       "      <td>1</td>\n",
       "      <td>1.7</td>\n",
       "      <td>-73.967515</td>\n",
       "      <td>40.758454</td>\n",
       "      <td>1</td>\n",
       "      <td>N</td>\n",
       "      <td>-73.956583</td>\n",
       "      <td>40.779903</td>\n",
       "      <td>CRD</td>\n",
       "      <td>6.9</td>\n",
       "      <td>1.0</td>\n",
       "      <td>0.5</td>\n",
       "      <td>1.00</td>\n",
       "      <td>0.0</td>\n",
       "      <td>9.40</td>\n",
       "    </tr>\n",
       "    <tr>\n",
       "      <th>4</th>\n",
       "      <td>CMT</td>\n",
       "      <td>2012-01-11 14:38:15</td>\n",
       "      <td>2012-01-11 14:43:51</td>\n",
       "      <td>1</td>\n",
       "      <td>1.2</td>\n",
       "      <td>-74.011315</td>\n",
       "      <td>40.711449</td>\n",
       "      <td>1</td>\n",
       "      <td>N</td>\n",
       "      <td>-74.002872</td>\n",
       "      <td>40.728131</td>\n",
       "      <td>CSH</td>\n",
       "      <td>5.7</td>\n",
       "      <td>0.0</td>\n",
       "      <td>0.5</td>\n",
       "      <td>0.00</td>\n",
       "      <td>0.0</td>\n",
       "      <td>6.20</td>\n",
       "    </tr>\n",
       "  </tbody>\n",
       "</table>\n",
       "</div>"
      ],
      "text/plain": [
       "  vendor_name Trip_Pickup_DateTime Trip_Dropoff_DateTime  Passenger_Count  \\\n",
       "0         CMT  2012-01-10 23:55:50   2012-01-11 00:03:39                1   \n",
       "1         CMT  2012-01-11 19:18:25   2012-01-11 19:26:10                1   \n",
       "2         CMT  2012-01-11 19:19:19   2012-01-11 19:48:15                2   \n",
       "3         CMT  2012-01-11 19:19:21   2012-01-11 19:27:00                1   \n",
       "4         CMT  2012-01-11 14:38:15   2012-01-11 14:43:51                1   \n",
       "\n",
       "   Trip_Distance  Start_Lon  Start_Lat  Rate_Code store_and_forward  \\\n",
       "0            1.7 -73.994693  40.725031          1                 N   \n",
       "1            1.1 -73.987955  40.752947          1                 N   \n",
       "2           18.0 -73.783093  40.648550          2                 N   \n",
       "3            1.7 -73.967515  40.758454          1                 N   \n",
       "4            1.2 -74.011315  40.711449          1                 N   \n",
       "\n",
       "     End_Lon    End_Lat Payment_Type  Fare_Amt  surcharge  mta_tax  Tip_Amt  \\\n",
       "0 -73.975951  40.730781          CRD       6.9        0.5      0.5     1.00   \n",
       "1 -73.994532  40.761040          CSH       6.1        1.0      0.5     0.00   \n",
       "2 -73.996134  40.747624          CRD      45.0        0.0      0.5    10.06   \n",
       "3 -73.956583  40.779903          CRD       6.9        1.0      0.5     1.00   \n",
       "4 -74.002872  40.728131          CSH       5.7        0.0      0.5     0.00   \n",
       "\n",
       "   Tolls_Amt  Total_Amt  \n",
       "0        0.0       8.90  \n",
       "1        0.0       7.60  \n",
       "2        4.8      60.36  \n",
       "3        0.0       9.40  \n",
       "4        0.0       6.20  "
      ]
     },
     "execution_count": 3,
     "metadata": {},
     "output_type": "execute_result"
    }
   ],
   "source": [
    "df.head()"
   ]
  },
  {
   "cell_type": "code",
   "execution_count": 4,
   "metadata": {},
   "outputs": [
    {
     "name": "stdout",
     "output_type": "stream",
     "text": [
      "<class 'pandas.core.frame.DataFrame'>\n",
      "RangeIndex: 100000 entries, 0 to 99999\n",
      "Data columns (total 18 columns):\n",
      "vendor_name              100000 non-null object\n",
      "Trip_Pickup_DateTime     100000 non-null object\n",
      "Trip_Dropoff_DateTime    100000 non-null object\n",
      "Passenger_Count          100000 non-null int64\n",
      "Trip_Distance            100000 non-null float64\n",
      "Start_Lon                100000 non-null float64\n",
      "Start_Lat                100000 non-null float64\n",
      "Rate_Code                100000 non-null int64\n",
      "store_and_forward        93759 non-null object\n",
      "End_Lon                  100000 non-null float64\n",
      "End_Lat                  100000 non-null float64\n",
      "Payment_Type             100000 non-null object\n",
      "Fare_Amt                 100000 non-null float64\n",
      "surcharge                100000 non-null float64\n",
      "mta_tax                  100000 non-null float64\n",
      "Tip_Amt                  100000 non-null float64\n",
      "Tolls_Amt                100000 non-null float64\n",
      "Total_Amt                100000 non-null float64\n",
      "dtypes: float64(11), int64(2), object(5)\n",
      "memory usage: 13.7+ MB\n"
     ]
    }
   ],
   "source": [
    "# checking the count and type of data in each column\n",
    "df.info()\n",
    "# Based on the output: Trip_Pickup_DateTime,Trip_Dropoff_DateTime need to be changed from object to datetime"
   ]
  },
  {
   "cell_type": "code",
   "execution_count": 5,
   "metadata": {},
   "outputs": [],
   "source": [
    "# changing the data type of Trip_Pickup_DateTime and Trip_Dropoff_DateTime\n",
    "df['Trip_Pickup_DateTime']=pd.to_datetime(df['Trip_Pickup_DateTime'])\n",
    "df['Trip_Dropoff_DateTime']=pd.to_datetime(df['Trip_Dropoff_DateTime'])"
   ]
  },
  {
   "cell_type": "code",
   "execution_count": 6,
   "metadata": {},
   "outputs": [
    {
     "data": {
      "text/html": [
       "<div>\n",
       "<style scoped>\n",
       "    .dataframe tbody tr th:only-of-type {\n",
       "        vertical-align: middle;\n",
       "    }\n",
       "\n",
       "    .dataframe tbody tr th {\n",
       "        vertical-align: top;\n",
       "    }\n",
       "\n",
       "    .dataframe thead th {\n",
       "        text-align: right;\n",
       "    }\n",
       "</style>\n",
       "<table border=\"1\" class=\"dataframe\">\n",
       "  <thead>\n",
       "    <tr style=\"text-align: right;\">\n",
       "      <th></th>\n",
       "      <th>vendor_name</th>\n",
       "      <th>Trip_Pickup_DateTime</th>\n",
       "      <th>Trip_Dropoff_DateTime</th>\n",
       "      <th>Passenger_Count</th>\n",
       "      <th>Trip_Distance</th>\n",
       "      <th>Start_Lon</th>\n",
       "      <th>Start_Lat</th>\n",
       "      <th>Rate_Code</th>\n",
       "      <th>store_and_forward</th>\n",
       "      <th>End_Lon</th>\n",
       "      <th>End_Lat</th>\n",
       "      <th>Payment_Type</th>\n",
       "      <th>Fare_Amt</th>\n",
       "      <th>surcharge</th>\n",
       "      <th>mta_tax</th>\n",
       "      <th>Tip_Amt</th>\n",
       "      <th>Tolls_Amt</th>\n",
       "      <th>Total_Amt</th>\n",
       "    </tr>\n",
       "  </thead>\n",
       "  <tbody>\n",
       "    <tr>\n",
       "      <th>count</th>\n",
       "      <td>100000</td>\n",
       "      <td>100000</td>\n",
       "      <td>100000</td>\n",
       "      <td>100000.000000</td>\n",
       "      <td>100000.000000</td>\n",
       "      <td>100000.000000</td>\n",
       "      <td>100000.000000</td>\n",
       "      <td>100000.000000</td>\n",
       "      <td>93759</td>\n",
       "      <td>100000.000000</td>\n",
       "      <td>100000.000000</td>\n",
       "      <td>100000</td>\n",
       "      <td>100000.000000</td>\n",
       "      <td>100000.000000</td>\n",
       "      <td>100000.000000</td>\n",
       "      <td>100000.000000</td>\n",
       "      <td>100000.000000</td>\n",
       "      <td>100000.000000</td>\n",
       "    </tr>\n",
       "    <tr>\n",
       "      <th>unique</th>\n",
       "      <td>2</td>\n",
       "      <td>89626</td>\n",
       "      <td>89759</td>\n",
       "      <td>NaN</td>\n",
       "      <td>NaN</td>\n",
       "      <td>NaN</td>\n",
       "      <td>NaN</td>\n",
       "      <td>NaN</td>\n",
       "      <td>2</td>\n",
       "      <td>NaN</td>\n",
       "      <td>NaN</td>\n",
       "      <td>4</td>\n",
       "      <td>NaN</td>\n",
       "      <td>NaN</td>\n",
       "      <td>NaN</td>\n",
       "      <td>NaN</td>\n",
       "      <td>NaN</td>\n",
       "      <td>NaN</td>\n",
       "    </tr>\n",
       "    <tr>\n",
       "      <th>top</th>\n",
       "      <td>CMT</td>\n",
       "      <td>2012-01-07 22:11:00</td>\n",
       "      <td>2012-01-07 22:15:00</td>\n",
       "      <td>NaN</td>\n",
       "      <td>NaN</td>\n",
       "      <td>NaN</td>\n",
       "      <td>NaN</td>\n",
       "      <td>NaN</td>\n",
       "      <td>N</td>\n",
       "      <td>NaN</td>\n",
       "      <td>NaN</td>\n",
       "      <td>CSH</td>\n",
       "      <td>NaN</td>\n",
       "      <td>NaN</td>\n",
       "      <td>NaN</td>\n",
       "      <td>NaN</td>\n",
       "      <td>NaN</td>\n",
       "      <td>NaN</td>\n",
       "    </tr>\n",
       "    <tr>\n",
       "      <th>freq</th>\n",
       "      <td>93765</td>\n",
       "      <td>18</td>\n",
       "      <td>24</td>\n",
       "      <td>NaN</td>\n",
       "      <td>NaN</td>\n",
       "      <td>NaN</td>\n",
       "      <td>NaN</td>\n",
       "      <td>NaN</td>\n",
       "      <td>92111</td>\n",
       "      <td>NaN</td>\n",
       "      <td>NaN</td>\n",
       "      <td>52511</td>\n",
       "      <td>NaN</td>\n",
       "      <td>NaN</td>\n",
       "      <td>NaN</td>\n",
       "      <td>NaN</td>\n",
       "      <td>NaN</td>\n",
       "      <td>NaN</td>\n",
       "    </tr>\n",
       "    <tr>\n",
       "      <th>first</th>\n",
       "      <td>NaN</td>\n",
       "      <td>2012-01-01 00:03:02</td>\n",
       "      <td>2012-01-01 00:10:03</td>\n",
       "      <td>NaN</td>\n",
       "      <td>NaN</td>\n",
       "      <td>NaN</td>\n",
       "      <td>NaN</td>\n",
       "      <td>NaN</td>\n",
       "      <td>NaN</td>\n",
       "      <td>NaN</td>\n",
       "      <td>NaN</td>\n",
       "      <td>NaN</td>\n",
       "      <td>NaN</td>\n",
       "      <td>NaN</td>\n",
       "      <td>NaN</td>\n",
       "      <td>NaN</td>\n",
       "      <td>NaN</td>\n",
       "      <td>NaN</td>\n",
       "    </tr>\n",
       "    <tr>\n",
       "      <th>last</th>\n",
       "      <td>NaN</td>\n",
       "      <td>2012-01-31 23:59:57</td>\n",
       "      <td>2012-02-01 00:30:27</td>\n",
       "      <td>NaN</td>\n",
       "      <td>NaN</td>\n",
       "      <td>NaN</td>\n",
       "      <td>NaN</td>\n",
       "      <td>NaN</td>\n",
       "      <td>NaN</td>\n",
       "      <td>NaN</td>\n",
       "      <td>NaN</td>\n",
       "      <td>NaN</td>\n",
       "      <td>NaN</td>\n",
       "      <td>NaN</td>\n",
       "      <td>NaN</td>\n",
       "      <td>NaN</td>\n",
       "      <td>NaN</td>\n",
       "      <td>NaN</td>\n",
       "    </tr>\n",
       "    <tr>\n",
       "      <th>mean</th>\n",
       "      <td>NaN</td>\n",
       "      <td>NaN</td>\n",
       "      <td>NaN</td>\n",
       "      <td>1.277140</td>\n",
       "      <td>2.671444</td>\n",
       "      <td>-72.578210</td>\n",
       "      <td>39.992582</td>\n",
       "      <td>1.028340</td>\n",
       "      <td>NaN</td>\n",
       "      <td>-72.588955</td>\n",
       "      <td>39.990233</td>\n",
       "      <td>NaN</td>\n",
       "      <td>9.724234</td>\n",
       "      <td>0.340905</td>\n",
       "      <td>0.498560</td>\n",
       "      <td>1.029911</td>\n",
       "      <td>0.171677</td>\n",
       "      <td>11.765287</td>\n",
       "    </tr>\n",
       "    <tr>\n",
       "      <th>std</th>\n",
       "      <td>NaN</td>\n",
       "      <td>NaN</td>\n",
       "      <td>NaN</td>\n",
       "      <td>0.779512</td>\n",
       "      <td>3.067452</td>\n",
       "      <td>10.074854</td>\n",
       "      <td>5.769841</td>\n",
       "      <td>0.258065</td>\n",
       "      <td>NaN</td>\n",
       "      <td>10.031340</td>\n",
       "      <td>5.518371</td>\n",
       "      <td>NaN</td>\n",
       "      <td>7.737457</td>\n",
       "      <td>0.374089</td>\n",
       "      <td>0.026794</td>\n",
       "      <td>1.704522</td>\n",
       "      <td>0.947738</td>\n",
       "      <td>9.246106</td>\n",
       "    </tr>\n",
       "    <tr>\n",
       "      <th>min</th>\n",
       "      <td>NaN</td>\n",
       "      <td>NaN</td>\n",
       "      <td>NaN</td>\n",
       "      <td>0.000000</td>\n",
       "      <td>0.000000</td>\n",
       "      <td>-78.751307</td>\n",
       "      <td>-0.006083</td>\n",
       "      <td>0.000000</td>\n",
       "      <td>NaN</td>\n",
       "      <td>-78.166667</td>\n",
       "      <td>0.000000</td>\n",
       "      <td>NaN</td>\n",
       "      <td>2.500000</td>\n",
       "      <td>0.000000</td>\n",
       "      <td>0.000000</td>\n",
       "      <td>0.000000</td>\n",
       "      <td>0.000000</td>\n",
       "      <td>3.000000</td>\n",
       "    </tr>\n",
       "    <tr>\n",
       "      <th>25%</th>\n",
       "      <td>NaN</td>\n",
       "      <td>NaN</td>\n",
       "      <td>NaN</td>\n",
       "      <td>1.000000</td>\n",
       "      <td>1.000000</td>\n",
       "      <td>-73.992114</td>\n",
       "      <td>40.735495</td>\n",
       "      <td>1.000000</td>\n",
       "      <td>NaN</td>\n",
       "      <td>-73.991438</td>\n",
       "      <td>40.734546</td>\n",
       "      <td>NaN</td>\n",
       "      <td>5.700000</td>\n",
       "      <td>0.000000</td>\n",
       "      <td>0.500000</td>\n",
       "      <td>0.000000</td>\n",
       "      <td>0.000000</td>\n",
       "      <td>6.950000</td>\n",
       "    </tr>\n",
       "    <tr>\n",
       "      <th>50%</th>\n",
       "      <td>NaN</td>\n",
       "      <td>NaN</td>\n",
       "      <td>NaN</td>\n",
       "      <td>1.000000</td>\n",
       "      <td>1.700000</td>\n",
       "      <td>-73.981991</td>\n",
       "      <td>40.752917</td>\n",
       "      <td>1.000000</td>\n",
       "      <td>NaN</td>\n",
       "      <td>-73.980260</td>\n",
       "      <td>40.753558</td>\n",
       "      <td>NaN</td>\n",
       "      <td>7.700000</td>\n",
       "      <td>0.500000</td>\n",
       "      <td>0.500000</td>\n",
       "      <td>0.000000</td>\n",
       "      <td>0.000000</td>\n",
       "      <td>9.120000</td>\n",
       "    </tr>\n",
       "    <tr>\n",
       "      <th>75%</th>\n",
       "      <td>NaN</td>\n",
       "      <td>NaN</td>\n",
       "      <td>NaN</td>\n",
       "      <td>1.000000</td>\n",
       "      <td>3.000000</td>\n",
       "      <td>-73.967676</td>\n",
       "      <td>40.767021</td>\n",
       "      <td>1.000000</td>\n",
       "      <td>NaN</td>\n",
       "      <td>-73.964417</td>\n",
       "      <td>40.768395</td>\n",
       "      <td>NaN</td>\n",
       "      <td>10.900000</td>\n",
       "      <td>0.500000</td>\n",
       "      <td>0.500000</td>\n",
       "      <td>1.600000</td>\n",
       "      <td>0.000000</td>\n",
       "      <td>13.000000</td>\n",
       "    </tr>\n",
       "    <tr>\n",
       "      <th>max</th>\n",
       "      <td>NaN</td>\n",
       "      <td>NaN</td>\n",
       "      <td>NaN</td>\n",
       "      <td>6.000000</td>\n",
       "      <td>100.000000</td>\n",
       "      <td>0.003868</td>\n",
       "      <td>404.733332</td>\n",
       "      <td>6.000000</td>\n",
       "      <td>NaN</td>\n",
       "      <td>0.011050</td>\n",
       "      <td>44.595211</td>\n",
       "      <td>NaN</td>\n",
       "      <td>430.000000</td>\n",
       "      <td>1.000000</td>\n",
       "      <td>0.500000</td>\n",
       "      <td>60.000000</td>\n",
       "      <td>20.000000</td>\n",
       "      <td>430.000000</td>\n",
       "    </tr>\n",
       "  </tbody>\n",
       "</table>\n",
       "</div>"
      ],
      "text/plain": [
       "       vendor_name Trip_Pickup_DateTime Trip_Dropoff_DateTime  \\\n",
       "count       100000               100000                100000   \n",
       "unique           2                89626                 89759   \n",
       "top            CMT  2012-01-07 22:11:00   2012-01-07 22:15:00   \n",
       "freq         93765                   18                    24   \n",
       "first          NaN  2012-01-01 00:03:02   2012-01-01 00:10:03   \n",
       "last           NaN  2012-01-31 23:59:57   2012-02-01 00:30:27   \n",
       "mean           NaN                  NaN                   NaN   \n",
       "std            NaN                  NaN                   NaN   \n",
       "min            NaN                  NaN                   NaN   \n",
       "25%            NaN                  NaN                   NaN   \n",
       "50%            NaN                  NaN                   NaN   \n",
       "75%            NaN                  NaN                   NaN   \n",
       "max            NaN                  NaN                   NaN   \n",
       "\n",
       "        Passenger_Count  Trip_Distance      Start_Lon      Start_Lat  \\\n",
       "count     100000.000000  100000.000000  100000.000000  100000.000000   \n",
       "unique              NaN            NaN            NaN            NaN   \n",
       "top                 NaN            NaN            NaN            NaN   \n",
       "freq                NaN            NaN            NaN            NaN   \n",
       "first               NaN            NaN            NaN            NaN   \n",
       "last                NaN            NaN            NaN            NaN   \n",
       "mean           1.277140       2.671444     -72.578210      39.992582   \n",
       "std            0.779512       3.067452      10.074854       5.769841   \n",
       "min            0.000000       0.000000     -78.751307      -0.006083   \n",
       "25%            1.000000       1.000000     -73.992114      40.735495   \n",
       "50%            1.000000       1.700000     -73.981991      40.752917   \n",
       "75%            1.000000       3.000000     -73.967676      40.767021   \n",
       "max            6.000000     100.000000       0.003868     404.733332   \n",
       "\n",
       "            Rate_Code store_and_forward        End_Lon        End_Lat  \\\n",
       "count   100000.000000             93759  100000.000000  100000.000000   \n",
       "unique            NaN                 2            NaN            NaN   \n",
       "top               NaN                 N            NaN            NaN   \n",
       "freq              NaN             92111            NaN            NaN   \n",
       "first             NaN               NaN            NaN            NaN   \n",
       "last              NaN               NaN            NaN            NaN   \n",
       "mean         1.028340               NaN     -72.588955      39.990233   \n",
       "std          0.258065               NaN      10.031340       5.518371   \n",
       "min          0.000000               NaN     -78.166667       0.000000   \n",
       "25%          1.000000               NaN     -73.991438      40.734546   \n",
       "50%          1.000000               NaN     -73.980260      40.753558   \n",
       "75%          1.000000               NaN     -73.964417      40.768395   \n",
       "max          6.000000               NaN       0.011050      44.595211   \n",
       "\n",
       "       Payment_Type       Fare_Amt      surcharge        mta_tax  \\\n",
       "count        100000  100000.000000  100000.000000  100000.000000   \n",
       "unique            4            NaN            NaN            NaN   \n",
       "top             CSH            NaN            NaN            NaN   \n",
       "freq          52511            NaN            NaN            NaN   \n",
       "first           NaN            NaN            NaN            NaN   \n",
       "last            NaN            NaN            NaN            NaN   \n",
       "mean            NaN       9.724234       0.340905       0.498560   \n",
       "std             NaN       7.737457       0.374089       0.026794   \n",
       "min             NaN       2.500000       0.000000       0.000000   \n",
       "25%             NaN       5.700000       0.000000       0.500000   \n",
       "50%             NaN       7.700000       0.500000       0.500000   \n",
       "75%             NaN      10.900000       0.500000       0.500000   \n",
       "max             NaN     430.000000       1.000000       0.500000   \n",
       "\n",
       "              Tip_Amt      Tolls_Amt      Total_Amt  \n",
       "count   100000.000000  100000.000000  100000.000000  \n",
       "unique            NaN            NaN            NaN  \n",
       "top               NaN            NaN            NaN  \n",
       "freq              NaN            NaN            NaN  \n",
       "first             NaN            NaN            NaN  \n",
       "last              NaN            NaN            NaN  \n",
       "mean         1.029911       0.171677      11.765287  \n",
       "std          1.704522       0.947738       9.246106  \n",
       "min          0.000000       0.000000       3.000000  \n",
       "25%          0.000000       0.000000       6.950000  \n",
       "50%          0.000000       0.000000       9.120000  \n",
       "75%          1.600000       0.000000      13.000000  \n",
       "max         60.000000      20.000000     430.000000  "
      ]
     },
     "execution_count": 6,
     "metadata": {},
     "output_type": "execute_result"
    }
   ],
   "source": [
    "# Column wise statistical summary\n",
    "#df.describe()\n",
    "df.describe(include=\"all\")"
   ]
  },
  {
   "cell_type": "code",
   "execution_count": 7,
   "metadata": {},
   "outputs": [
    {
     "name": "stdout",
     "output_type": "stream",
     "text": [
      "vendor_name              100000\n",
      "Trip_Pickup_DateTime     100000\n",
      "Trip_Dropoff_DateTime    100000\n",
      "store_and_forward         93759\n",
      "dtype: int64\n"
     ]
    }
   ],
   "source": [
    "# checking statisics for non-numerical columns\n",
    "non_num_cols=['vendor_name', 'Trip_Pickup_DateTime','Trip_Dropoff_DateTime','store_and_forward']\n",
    "print(df[non_num_cols].count())\n",
    "# Based on output: Missing values in store_and_forward column"
   ]
  },
  {
   "cell_type": "code",
   "execution_count": 8,
   "metadata": {},
   "outputs": [
    {
     "data": {
      "text/html": [
       "<div>\n",
       "<style scoped>\n",
       "    .dataframe tbody tr th:only-of-type {\n",
       "        vertical-align: middle;\n",
       "    }\n",
       "\n",
       "    .dataframe tbody tr th {\n",
       "        vertical-align: top;\n",
       "    }\n",
       "\n",
       "    .dataframe thead th {\n",
       "        text-align: right;\n",
       "    }\n",
       "</style>\n",
       "<table border=\"1\" class=\"dataframe\">\n",
       "  <thead>\n",
       "    <tr style=\"text-align: right;\">\n",
       "      <th></th>\n",
       "      <th>Passenger_Count</th>\n",
       "      <th>Trip_Distance</th>\n",
       "      <th>Start_Lon</th>\n",
       "      <th>Start_Lat</th>\n",
       "      <th>Rate_Code</th>\n",
       "      <th>End_Lon</th>\n",
       "      <th>End_Lat</th>\n",
       "      <th>Fare_Amt</th>\n",
       "      <th>surcharge</th>\n",
       "      <th>mta_tax</th>\n",
       "      <th>Tip_Amt</th>\n",
       "      <th>Tolls_Amt</th>\n",
       "      <th>Total_Amt</th>\n",
       "    </tr>\n",
       "  </thead>\n",
       "  <tbody>\n",
       "    <tr>\n",
       "      <th>Passenger_Count</th>\n",
       "      <td>1.000000</td>\n",
       "      <td>0.033209</td>\n",
       "      <td>0.003696</td>\n",
       "      <td>0.003309</td>\n",
       "      <td>0.006989</td>\n",
       "      <td>0.003511</td>\n",
       "      <td>-0.002520</td>\n",
       "      <td>0.030281</td>\n",
       "      <td>0.028504</td>\n",
       "      <td>-0.006029</td>\n",
       "      <td>-0.022900</td>\n",
       "      <td>0.021945</td>\n",
       "      <td>0.024503</td>\n",
       "    </tr>\n",
       "    <tr>\n",
       "      <th>Trip_Distance</th>\n",
       "      <td>0.033209</td>\n",
       "      <td>1.000000</td>\n",
       "      <td>0.004761</td>\n",
       "      <td>-0.003701</td>\n",
       "      <td>0.272717</td>\n",
       "      <td>-0.000669</td>\n",
       "      <td>0.000491</td>\n",
       "      <td>0.860769</td>\n",
       "      <td>-0.025918</td>\n",
       "      <td>-0.104096</td>\n",
       "      <td>0.463829</td>\n",
       "      <td>0.554496</td>\n",
       "      <td>0.861314</td>\n",
       "    </tr>\n",
       "    <tr>\n",
       "      <th>Start_Lon</th>\n",
       "      <td>0.003696</td>\n",
       "      <td>0.004761</td>\n",
       "      <td>1.000000</td>\n",
       "      <td>-0.955696</td>\n",
       "      <td>0.007734</td>\n",
       "      <td>0.968941</td>\n",
       "      <td>-0.969919</td>\n",
       "      <td>0.007063</td>\n",
       "      <td>-0.004813</td>\n",
       "      <td>0.000633</td>\n",
       "      <td>0.002945</td>\n",
       "      <td>0.002250</td>\n",
       "      <td>0.006492</td>\n",
       "    </tr>\n",
       "    <tr>\n",
       "      <th>Start_Lat</th>\n",
       "      <td>0.003309</td>\n",
       "      <td>-0.003701</td>\n",
       "      <td>-0.955696</td>\n",
       "      <td>1.000000</td>\n",
       "      <td>-0.008056</td>\n",
       "      <td>-0.931337</td>\n",
       "      <td>0.932720</td>\n",
       "      <td>-0.006467</td>\n",
       "      <td>0.004844</td>\n",
       "      <td>-0.000499</td>\n",
       "      <td>-0.003006</td>\n",
       "      <td>-0.001344</td>\n",
       "      <td>-0.005909</td>\n",
       "    </tr>\n",
       "    <tr>\n",
       "      <th>Rate_Code</th>\n",
       "      <td>0.006989</td>\n",
       "      <td>0.272717</td>\n",
       "      <td>0.007734</td>\n",
       "      <td>-0.008056</td>\n",
       "      <td>1.000000</td>\n",
       "      <td>0.008731</td>\n",
       "      <td>-0.008944</td>\n",
       "      <td>0.489577</td>\n",
       "      <td>-0.073300</td>\n",
       "      <td>-0.688282</td>\n",
       "      <td>0.260175</td>\n",
       "      <td>0.305466</td>\n",
       "      <td>0.484008</td>\n",
       "    </tr>\n",
       "    <tr>\n",
       "      <th>End_Lon</th>\n",
       "      <td>0.003511</td>\n",
       "      <td>-0.000669</td>\n",
       "      <td>0.968941</td>\n",
       "      <td>-0.931337</td>\n",
       "      <td>0.008731</td>\n",
       "      <td>1.000000</td>\n",
       "      <td>-0.996583</td>\n",
       "      <td>0.003332</td>\n",
       "      <td>-0.004409</td>\n",
       "      <td>0.000944</td>\n",
       "      <td>0.000052</td>\n",
       "      <td>-0.001254</td>\n",
       "      <td>0.002494</td>\n",
       "    </tr>\n",
       "    <tr>\n",
       "      <th>End_Lat</th>\n",
       "      <td>-0.002520</td>\n",
       "      <td>0.000491</td>\n",
       "      <td>-0.969919</td>\n",
       "      <td>0.932720</td>\n",
       "      <td>-0.008944</td>\n",
       "      <td>-0.996583</td>\n",
       "      <td>1.000000</td>\n",
       "      <td>-0.003608</td>\n",
       "      <td>0.004400</td>\n",
       "      <td>-0.000403</td>\n",
       "      <td>-0.000160</td>\n",
       "      <td>0.001538</td>\n",
       "      <td>-0.002714</td>\n",
       "    </tr>\n",
       "    <tr>\n",
       "      <th>Fare_Amt</th>\n",
       "      <td>0.030281</td>\n",
       "      <td>0.860769</td>\n",
       "      <td>0.007063</td>\n",
       "      <td>-0.006467</td>\n",
       "      <td>0.489577</td>\n",
       "      <td>0.003332</td>\n",
       "      <td>-0.003608</td>\n",
       "      <td>1.000000</td>\n",
       "      <td>-0.051548</td>\n",
       "      <td>-0.336313</td>\n",
       "      <td>0.496554</td>\n",
       "      <td>0.539245</td>\n",
       "      <td>0.980587</td>\n",
       "    </tr>\n",
       "    <tr>\n",
       "      <th>surcharge</th>\n",
       "      <td>0.028504</td>\n",
       "      <td>-0.025918</td>\n",
       "      <td>-0.004813</td>\n",
       "      <td>0.004844</td>\n",
       "      <td>-0.073300</td>\n",
       "      <td>-0.004409</td>\n",
       "      <td>0.004400</td>\n",
       "      <td>-0.051548</td>\n",
       "      <td>1.000000</td>\n",
       "      <td>0.040745</td>\n",
       "      <td>-0.003952</td>\n",
       "      <td>-0.054410</td>\n",
       "      <td>-0.008865</td>\n",
       "    </tr>\n",
       "    <tr>\n",
       "      <th>mta_tax</th>\n",
       "      <td>-0.006029</td>\n",
       "      <td>-0.104096</td>\n",
       "      <td>0.000633</td>\n",
       "      <td>-0.000499</td>\n",
       "      <td>-0.688282</td>\n",
       "      <td>0.000944</td>\n",
       "      <td>-0.000403</td>\n",
       "      <td>-0.336313</td>\n",
       "      <td>0.040745</td>\n",
       "      <td>1.000000</td>\n",
       "      <td>-0.183093</td>\n",
       "      <td>-0.204964</td>\n",
       "      <td>-0.331654</td>\n",
       "    </tr>\n",
       "    <tr>\n",
       "      <th>Tip_Amt</th>\n",
       "      <td>-0.022900</td>\n",
       "      <td>0.463829</td>\n",
       "      <td>0.002945</td>\n",
       "      <td>-0.003006</td>\n",
       "      <td>0.260175</td>\n",
       "      <td>0.000052</td>\n",
       "      <td>-0.000160</td>\n",
       "      <td>0.496554</td>\n",
       "      <td>-0.003952</td>\n",
       "      <td>-0.183093</td>\n",
       "      <td>1.000000</td>\n",
       "      <td>0.365024</td>\n",
       "      <td>0.636608</td>\n",
       "    </tr>\n",
       "    <tr>\n",
       "      <th>Tolls_Amt</th>\n",
       "      <td>0.021945</td>\n",
       "      <td>0.554496</td>\n",
       "      <td>0.002250</td>\n",
       "      <td>-0.001344</td>\n",
       "      <td>0.305466</td>\n",
       "      <td>-0.001254</td>\n",
       "      <td>0.001538</td>\n",
       "      <td>0.539245</td>\n",
       "      <td>-0.054410</td>\n",
       "      <td>-0.204964</td>\n",
       "      <td>0.365024</td>\n",
       "      <td>1.000000</td>\n",
       "      <td>0.618257</td>\n",
       "    </tr>\n",
       "    <tr>\n",
       "      <th>Total_Amt</th>\n",
       "      <td>0.024503</td>\n",
       "      <td>0.861314</td>\n",
       "      <td>0.006492</td>\n",
       "      <td>-0.005909</td>\n",
       "      <td>0.484008</td>\n",
       "      <td>0.002494</td>\n",
       "      <td>-0.002714</td>\n",
       "      <td>0.980587</td>\n",
       "      <td>-0.008865</td>\n",
       "      <td>-0.331654</td>\n",
       "      <td>0.636608</td>\n",
       "      <td>0.618257</td>\n",
       "      <td>1.000000</td>\n",
       "    </tr>\n",
       "  </tbody>\n",
       "</table>\n",
       "</div>"
      ],
      "text/plain": [
       "                 Passenger_Count  Trip_Distance  Start_Lon  Start_Lat  \\\n",
       "Passenger_Count         1.000000       0.033209   0.003696   0.003309   \n",
       "Trip_Distance           0.033209       1.000000   0.004761  -0.003701   \n",
       "Start_Lon               0.003696       0.004761   1.000000  -0.955696   \n",
       "Start_Lat               0.003309      -0.003701  -0.955696   1.000000   \n",
       "Rate_Code               0.006989       0.272717   0.007734  -0.008056   \n",
       "End_Lon                 0.003511      -0.000669   0.968941  -0.931337   \n",
       "End_Lat                -0.002520       0.000491  -0.969919   0.932720   \n",
       "Fare_Amt                0.030281       0.860769   0.007063  -0.006467   \n",
       "surcharge               0.028504      -0.025918  -0.004813   0.004844   \n",
       "mta_tax                -0.006029      -0.104096   0.000633  -0.000499   \n",
       "Tip_Amt                -0.022900       0.463829   0.002945  -0.003006   \n",
       "Tolls_Amt               0.021945       0.554496   0.002250  -0.001344   \n",
       "Total_Amt               0.024503       0.861314   0.006492  -0.005909   \n",
       "\n",
       "                 Rate_Code   End_Lon   End_Lat  Fare_Amt  surcharge   mta_tax  \\\n",
       "Passenger_Count   0.006989  0.003511 -0.002520  0.030281   0.028504 -0.006029   \n",
       "Trip_Distance     0.272717 -0.000669  0.000491  0.860769  -0.025918 -0.104096   \n",
       "Start_Lon         0.007734  0.968941 -0.969919  0.007063  -0.004813  0.000633   \n",
       "Start_Lat        -0.008056 -0.931337  0.932720 -0.006467   0.004844 -0.000499   \n",
       "Rate_Code         1.000000  0.008731 -0.008944  0.489577  -0.073300 -0.688282   \n",
       "End_Lon           0.008731  1.000000 -0.996583  0.003332  -0.004409  0.000944   \n",
       "End_Lat          -0.008944 -0.996583  1.000000 -0.003608   0.004400 -0.000403   \n",
       "Fare_Amt          0.489577  0.003332 -0.003608  1.000000  -0.051548 -0.336313   \n",
       "surcharge        -0.073300 -0.004409  0.004400 -0.051548   1.000000  0.040745   \n",
       "mta_tax          -0.688282  0.000944 -0.000403 -0.336313   0.040745  1.000000   \n",
       "Tip_Amt           0.260175  0.000052 -0.000160  0.496554  -0.003952 -0.183093   \n",
       "Tolls_Amt         0.305466 -0.001254  0.001538  0.539245  -0.054410 -0.204964   \n",
       "Total_Amt         0.484008  0.002494 -0.002714  0.980587  -0.008865 -0.331654   \n",
       "\n",
       "                  Tip_Amt  Tolls_Amt  Total_Amt  \n",
       "Passenger_Count -0.022900   0.021945   0.024503  \n",
       "Trip_Distance    0.463829   0.554496   0.861314  \n",
       "Start_Lon        0.002945   0.002250   0.006492  \n",
       "Start_Lat       -0.003006  -0.001344  -0.005909  \n",
       "Rate_Code        0.260175   0.305466   0.484008  \n",
       "End_Lon          0.000052  -0.001254   0.002494  \n",
       "End_Lat         -0.000160   0.001538  -0.002714  \n",
       "Fare_Amt         0.496554   0.539245   0.980587  \n",
       "surcharge       -0.003952  -0.054410  -0.008865  \n",
       "mta_tax         -0.183093  -0.204964  -0.331654  \n",
       "Tip_Amt          1.000000   0.365024   0.636608  \n",
       "Tolls_Amt        0.365024   1.000000   0.618257  \n",
       "Total_Amt        0.636608   0.618257   1.000000  "
      ]
     },
     "execution_count": 8,
     "metadata": {},
     "output_type": "execute_result"
    }
   ],
   "source": [
    "#calculate the correlation between variables of type \"int64\" or \"float64\"\n",
    "df.corr()"
   ]
  },
  {
   "cell_type": "code",
   "execution_count": 9,
   "metadata": {},
   "outputs": [
    {
     "data": {
      "image/png": "[encoded data removed]",
      "text/plain": [
       "<Figure size 432x288 with 1 Axes>"
      ]
     },
     "metadata": {
      "needs_background": "light"
     },
     "output_type": "display_data"
    }
   ],
   "source": [
    "# distribution of passenger_count variable\n",
    "sns.distplot(df['Passenger_Count'],kde=False)\n",
    "plt.title('Distribution of Passenger Count')\n",
    "plt.show()\n",
    "# Output: Taxi is hired by mostly one person followed by 2 people. A large group of people taking a cab is rare"
   ]
  },
  {
   "cell_type": "code",
   "execution_count": 10,
   "metadata": {},
   "outputs": [
    {
     "data": {
      "text/plain": [
       "89759"
      ]
     },
     "execution_count": 10,
     "metadata": {},
     "output_type": "execute_result"
    }
   ],
   "source": [
    "#Unique count of pickup and drop off times\n",
    "df['Trip_Pickup_DateTime'].nunique()\n",
    "df['Trip_Dropoff_DateTime'].nunique()\n",
    "# Output: Out of 100000 data points - 89759 are unique"
   ]
  },
  {
   "cell_type": "code",
   "execution_count": 11,
   "metadata": {},
   "outputs": [
    {
     "data": {
      "text/plain": [
       "Friday       24435\n",
       "Thursday     21573\n",
       "Saturday     17102\n",
       "Wednesday    16209\n",
       "Tuesday       7465\n",
       "Sunday        6709\n",
       "Monday        6507\n",
       "Name: pickup_day, dtype: int64"
      ]
     },
     "execution_count": 11,
     "metadata": {},
     "output_type": "execute_result"
    }
   ],
   "source": [
    "# Converting date into days of week\n",
    "df['pickup_day']=df['Trip_Pickup_DateTime'].dt.day_name()\n",
    "df['dropoff_day']=df['Trip_Dropoff_DateTime'].dt.day_name()\n",
    "# getting the count of trip by days of week\n",
    "df['pickup_day'].value_counts()\n",
    "# Based on output: Most trips are taken in Friday, followed by Thursday\n",
    "# Least number of trips on Sunday and Monday\n",
    "# Analyze: Why are there less trips on Monday????"
   ]
  },
  {
   "cell_type": "code",
   "execution_count": 12,
   "metadata": {},
   "outputs": [
    {
     "data": {
      "text/plain": [
       "Friday       24344\n",
       "Thursday     21574\n",
       "Saturday     17249\n",
       "Wednesday    16075\n",
       "Tuesday       7444\n",
       "Sunday        6817\n",
       "Monday        6497\n",
       "Name: dropoff_day, dtype: int64"
      ]
     },
     "execution_count": 12,
     "metadata": {},
     "output_type": "execute_result"
    }
   ],
   "source": [
    "# getting the count of trip by days of week\n",
    "df['dropoff_day'].value_counts()\n",
    "# Based on output: Most trips are taken in Friday, followed by Thursday\n",
    "# Least number of trips on Sunday and Monday\n",
    "# Analyze: Why are there less trips on Monday????"
   ]
  },
  {
   "cell_type": "code",
   "execution_count": 13,
   "metadata": {},
   "outputs": [
    {
     "data": {
      "image/png": "[encoded data removed]",
      "text/plain": [
       "<Figure size 720x720 with 2 Axes>"
      ]
     },
     "metadata": {
      "needs_background": "light"
     },
     "output_type": "display_data"
    }
   ],
   "source": [
    "# distrbution of trip duration\n",
    "figure,ax=plt.subplots(nrows=2,ncols=1,figsize=(10,10))\n",
    "sns.countplot(x='pickup_day',data=df,ax=ax[0])\n",
    "ax[0].set_title('Number of Pickups done on each day of the week')\n",
    "sns.countplot(x='dropoff_day',data=df,ax=ax[1])\n",
    "ax[1].set_title('Number of dropoffs done on each day of the week')\n",
    "plt.tight_layout()"
   ]
  },
  {
   "cell_type": "code",
   "execution_count": 14,
   "metadata": {},
   "outputs": [
    {
     "data": {
      "text/plain": [
       "Text(0.5,1,'Distribution of dropoff hours')"
      ]
     },
     "execution_count": 14,
     "metadata": {},
     "output_type": "execute_result"
    },
    {
     "data": {
      "image/png": "[encoded data removed]",
      "text/plain": [
       "<Figure size 720x360 with 2 Axes>"
      ]
     },
     "metadata": {
      "needs_background": "light"
     },
     "output_type": "display_data"
    }
   ],
   "source": [
    "# distribution of pickup and drop off hours\n",
    "figure,ax=plt.subplots(nrows=1,ncols=2,figsize=(10,5))\n",
    "df['pickup_hour']=df['Trip_Pickup_DateTime'].dt.hour\n",
    "df.pickup_hour.hist(bins=24,ax=ax[0])\n",
    "ax[0].set_title('Distribution of pickup hours')\n",
    "df['dropoff_hour']=df['Trip_Dropoff_DateTime'].dt.hour\n",
    "df.dropoff_hour.hist(bins=24,ax=ax[1])\n",
    "ax[1].set_title('Distribution of dropoff hours')"
   ]
  },
  {
   "cell_type": "code",
   "execution_count": 15,
   "metadata": {},
   "outputs": [
    {
     "data": {
      "text/plain": [
       "Text(0.5,1,'The distribution of of the Pick Up  Duration distribution')"
      ]
     },
     "execution_count": 15,
     "metadata": {},
     "output_type": "execute_result"
    },
    {
     "data": {
      "image/png": "[encoded data removed]",
      "text/plain": [
       "<Figure size 432x288 with 1 Axes>"
      ]
     },
     "metadata": {
      "needs_background": "light"
     },
     "output_type": "display_data"
    }
   ],
   "source": [
    "# Distribution of trip duration\n",
    "sns.distplot(df['Trip_Distance'],kde=False)\n",
    "plt.title('The distribution of of the Pick Up  Duration distribution')\n",
    "#Based on output: Right skewness might indicate outliers"
   ]
  },
  {
   "cell_type": "code",
   "execution_count": 16,
   "metadata": {},
   "outputs": [
    {
     "data": {
      "text/plain": [
       "Text(0.5,1,'A boxplot depicting the pickup distance distribution')"
      ]
     },
     "execution_count": 16,
     "metadata": {},
     "output_type": "execute_result"
    },
    {
     "data": {
      "image/png": "[encoded data removed]",
      "text/plain": [
       "<Figure size 432x288 with 1 Axes>"
      ]
     },
     "metadata": {
      "needs_background": "light"
     },
     "output_type": "display_data"
    }
   ],
   "source": [
    "sns.boxplot(df['Trip_Distance'], orient='horizontal')\n",
    "plt.title('A boxplot depicting the pickup distance distribution')\n",
    "# Based on output: The value of 100 is an outlier.\n",
    "# Most of the values are concentrated within 60 miles distance."
   ]
  },
  {
   "cell_type": "code",
   "execution_count": 17,
   "metadata": {},
   "outputs": [
    {
     "name": "stdout",
     "output_type": "stream",
     "text": [
      "12657    100.00\n",
      "7559      64.50\n",
      "57226     61.69\n",
      "914       52.60\n",
      "52415     47.70\n",
      "11267     45.90\n",
      "74741     42.90\n",
      "3468      42.60\n",
      "23814     40.20\n",
      "23082     36.90\n",
      "Name: Trip_Distance, dtype: float64\n"
     ]
    }
   ],
   "source": [
    "#Top 10 trip distance\n",
    "print( df['Trip_Distance'].nlargest(10))"
   ]
  },
  {
   "cell_type": "code",
   "execution_count": 43,
   "metadata": {},
   "outputs": [],
   "source": [
    "# Calculating trip duration\n",
    "df['trip_duration'] = df['Trip_Dropoff_DateTime'] - df['Trip_Pickup_DateTime']"
   ]
  },
  {
   "cell_type": "code",
   "execution_count": 25,
   "metadata": {},
   "outputs": [],
   "source": [
    "def timezone(x):\n",
    "    if x>=datetime.time(4, 0, 1) and x <=datetime.time(10, 0, 0):\n",
    "        return 'morning'\n",
    "    elif x>=datetime.time(10, 0, 1) and x <=datetime.time(16, 0, 0):\n",
    "        return 'midday'\n",
    "    elif x>=datetime.time(16, 0, 1) and x <=datetime.time(22, 0, 0):\n",
    "        return 'evening'\n",
    "    elif x>=datetime.time(22, 0, 1) or x <=datetime.time(4, 0, 0):\n",
    "        return 'late night'\n",
    "    \n",
    "df['pickup_timezone']=df['Trip_Pickup_DateTime'].apply(lambda x :timezone(datetime.datetime.strptime(str(x), \"%Y-%m-%d %H:%M:%S\").time()) )\n",
    "df['dropoff_timezone']=df['Trip_Dropoff_DateTime'].apply(lambda x :timezone(datetime.datetime.strptime(str(x), \"%Y-%m-%d %H:%M:%S\").time()) )"
   ]
  },
  {
   "cell_type": "code",
   "execution_count": 47,
   "metadata": {},
   "outputs": [
    {
     "data": {
      "text/plain": [
       "Text(0.5,1,'Distribution of the pickup ditribution')"
      ]
     },
     "execution_count": 47,
     "metadata": {},
     "output_type": "execute_result"
    },
    {
     "data": {
      "image/png": "[encoded data removed]",
      "text/plain": [
       "<Figure size 432x288 with 1 Axes>"
      ]
     },
     "metadata": {
      "needs_background": "light"
     },
     "output_type": "display_data"
    }
   ],
   "source": [
    "df['trip_duration']=pd.to_numeric(df['trip_duration'])\n",
    "sns.distplot(df['trip_duration'])\n",
    "plt.title('Distribution of the pickup ditribution')"
   ]
  },
  {
   "cell_type": "code",
   "execution_count": 49,
   "metadata": {},
   "outputs": [
    {
     "data": {
      "text/plain": [
       "Text(0.5,1,'A boxplot depicting the duration distribution')"
      ]
     },
     "execution_count": 49,
     "metadata": {},
     "output_type": "execute_result"
    },
    {
     "data": {
      "image/png": "[encoded data removed]",
      "text/plain": [
       "<Figure size 432x288 with 1 Axes>"
      ]
     },
     "metadata": {
      "needs_background": "light"
     },
     "output_type": "display_data"
    }
   ],
   "source": [
    "sns.boxplot(df['trip_duration'], orient='horizontal')\n",
    "plt.title('A boxplot depicting the duration distribution')"
   ]
  },
  {
   "cell_type": "code",
   "execution_count": 44,
   "metadata": {},
   "outputs": [],
   "source": [
    "# Dividing trip time into intervals\n",
    "bins=np.array([0,1800,3600,5400,7200,60000])\n",
    "df['duration_time']=pd.cut(df.Trip_Distance,bins,labels=[\"< 5\", \"5-10\", \"10-15\",\"15-20\",\">20\"])"
   ]
  },
  {
   "cell_type": "code",
   "execution_count": 28,
   "metadata": {},
   "outputs": [
    {
     "data": {
      "text/plain": [
       "Text(0.5,1,'The distribution of Pick up Longitude')"
      ]
     },
     "execution_count": 28,
     "metadata": {},
     "output_type": "execute_result"
    },
    {
     "data": {
      "image/png": "[encoded data removed]",
      "text/plain": [
       "<Figure size 432x288 with 1 Axes>"
      ]
     },
     "metadata": {
      "needs_background": "light"
     },
     "output_type": "display_data"
    }
   ],
   "source": [
    "# Distribution of longitude\n",
    "sns.distplot(df['Start_Lon'])\n",
    "plt.title('The distribution of Pick up Longitude')"
   ]
  },
  {
   "cell_type": "code",
   "execution_count": 31,
   "metadata": {},
   "outputs": [
    {
     "data": {
      "text/plain": [
       "Text(0.5,1,'The distribution of Drop off Longitude')"
      ]
     },
     "execution_count": 31,
     "metadata": {},
     "output_type": "execute_result"
    },
    {
     "data": {
      "image/png": "[encoded data removed]",
      "text/plain": [
       "<Figure size 432x288 with 1 Axes>"
      ]
     },
     "metadata": {
      "needs_background": "light"
     },
     "output_type": "display_data"
    }
   ],
   "source": [
    "# Distribution of longitude\n",
    "sns.distplot(df['End_Lon'])\n",
    "plt.title('The distribution of Drop off Longitude')"
   ]
  },
  {
   "cell_type": "code",
   "execution_count": 32,
   "metadata": {},
   "outputs": [
    {
     "data": {
      "text/plain": [
       "Text(0.5,1,'The distribution of Pick up Latitude')"
      ]
     },
     "execution_count": 32,
     "metadata": {},
     "output_type": "execute_result"
    },
    {
     "data": {
      "image/png": "[encoded data removed]",
      "text/plain": [
       "<Figure size 432x288 with 1 Axes>"
      ]
     },
     "metadata": {
      "needs_background": "light"
     },
     "output_type": "display_data"
    }
   ],
   "source": [
    "# Distribution of latitude\n",
    "sns.distplot(df['Start_Lat'])\n",
    "plt.title('The distribution of Pick up Latitude')"
   ]
  },
  {
   "cell_type": "code",
   "execution_count": 33,
   "metadata": {},
   "outputs": [
    {
     "data": {
      "text/plain": [
       "Text(0.5,1,'The distribution of Drop off Latitude')"
      ]
     },
     "execution_count": 33,
     "metadata": {},
     "output_type": "execute_result"
    },
    {
     "data": {
      "image/png": "[encoded data removed]",
      "text/plain": [
       "<Figure size 432x288 with 1 Axes>"
      ]
     },
     "metadata": {
      "needs_background": "light"
     },
     "output_type": "display_data"
    }
   ],
   "source": [
    "sns.distplot(df['End_Lat'])\n",
    "plt.title('The distribution of Drop off Latitude')"
   ]
  },
  {
   "cell_type": "code",
   "execution_count": 34,
   "metadata": {},
   "outputs": [
    {
     "data": {
      "text/plain": [
       "Text(0.5,1,'The Average Trip Duration per Dropoff Day of the week')"
      ]
     },
     "execution_count": 34,
     "metadata": {},
     "output_type": "execute_result"
    },
    {
     "data": {
      "image/png": "[encoded data removed]",
      "text/plain": [
       "<Figure size 432x432 with 1 Axes>"
      ]
     },
     "metadata": {
      "needs_background": "light"
     },
     "output_type": "display_data"
    },
    {
     "data": {
      "image/png": "[encoded data removed]",
      "text/plain": [
       "<Figure size 432x432 with 1 Axes>"
      ]
     },
     "metadata": {
      "needs_background": "light"
     },
     "output_type": "display_data"
    }
   ],
   "source": [
    "sns.catplot(x=\"pickup_day\",y=\"Trip_Distance\",kind=\"bar\",data=df,height=6,aspect=1)\n",
    "plt.title('The Average Trip Duration per PickUp Day of the week')\n",
    "sns.catplot(x=\"dropoff_day\",y=\"Trip_Distance\",kind=\"bar\",data=df,height=6,aspect=1)\n",
    "plt.title('The Average Trip Duration per Dropoff Day of the week')"
   ]
  },
  {
   "cell_type": "code",
   "execution_count": 36,
   "metadata": {},
   "outputs": [
    {
     "data": {
      "text/plain": [
       "<matplotlib.axes._subplots.AxesSubplot at 0xeffbef0>"
      ]
     },
     "execution_count": 36,
     "metadata": {},
     "output_type": "execute_result"
    },
    {
     "data": {
      "image/png": "[encoded data removed]",
      "text/plain": [
       "<Figure size 432x288 with 1 Axes>"
      ]
     },
     "metadata": {
      "needs_background": "light"
     },
     "output_type": "display_data"
    }
   ],
   "source": [
    "# Trip Distance as potential predictor variable of tip amount\n",
    "sns.regplot(x=\"Trip_Distance\", y=\"Tip_Amt\", data=df)"
   ]
  },
  {
   "cell_type": "code",
   "execution_count": 37,
   "metadata": {},
   "outputs": [
    {
     "name": "stdout",
     "output_type": "stream",
     "text": [
      "count    100000.000000\n",
      "mean          1.029911\n",
      "std           1.704522\n",
      "min           0.000000\n",
      "25%           0.000000\n",
      "50%           0.000000\n",
      "75%           1.600000\n",
      "max          60.000000\n",
      "Name: Tip_Amt, dtype: float64\n"
     ]
    },
    {
     "data": {
      "image/png": "[encoded data removed]",
      "text/plain": [
       "<Figure size 648x576 with 1 Axes>"
      ]
     },
     "metadata": {
      "needs_background": "light"
     },
     "output_type": "display_data"
    }
   ],
   "source": [
    "print(df['Tip_Amt'].describe())\n",
    "plt.figure(figsize=(9, 8))\n",
    "sns.distplot(df['Tip_Amt'], color='g', bins=100, hist_kws={'alpha': 0.4});"
   ]
  },
  {
   "cell_type": "code",
   "execution_count": 39,
   "metadata": {},
   "outputs": [
    {
     "data": {
      "text/plain": [
       "Text(0.5,1,'A boxplot depicting tip distribution')"
      ]
     },
     "execution_count": 39,
     "metadata": {},
     "output_type": "execute_result"
    },
    {
     "data": {
      "image/png": "[encoded data removed]",
      "text/plain": [
       "<Figure size 432x288 with 1 Axes>"
      ]
     },
     "metadata": {
      "needs_background": "light"
     },
     "output_type": "display_data"
    }
   ],
   "source": [
    "sns.boxplot(df['Tip_Amt'], orient='horizontal')\n",
    "plt.title('A boxplot depicting tip distribution')"
   ]
  },
  {
   "cell_type": "markdown",
   "metadata": {},
   "source": [
    "# To-Do\n",
    "2. Get neighborhoods/borough based on latitude and longitude\n",
    "3. Why are the number of trips less on Monday compared to other days.\n",
    "4. Create a map of NYC determining pickup locations."
   ]
  },
  {
   "cell_type": "code",
   "execution_count": null,
   "metadata": {},
   "outputs": [],
   "source": []
  }
 ],
 "metadata": {
  "kernelspec": {
   "display_name": "Python 2",
   "language": "python",
   "name": "python2"
  },
  "language_info": {
   "codemirror_mode": {
    "name": "ipython",
    "version": 2
   },
   "file_extension": ".py",
   "mimetype": "text/x-python",
   "name": "python",
   "nbconvert_exporter": "python",
   "pygments_lexer": "ipython2",
   "version": "2.7.16"
  }
 },
 "nbformat": 4,
 "nbformat_minor": 2
}
